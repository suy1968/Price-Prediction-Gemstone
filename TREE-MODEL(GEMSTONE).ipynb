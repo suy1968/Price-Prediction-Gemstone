{
 "cells": [
  {
   "cell_type": "code",
   "execution_count": 1,
   "id": "d6313034",
   "metadata": {},
   "outputs": [],
   "source": [
    "# Importing required libraries -\n",
    "import pandas as pd\n",
    "import warnings\n",
    "from sklearn.tree import DecisionTreeRegressor\n",
    "import base_script as base\n",
    "\n",
    "warnings.simplefilter('ignore')\n"
   ]
  },
  {
   "cell_type": "code",
   "execution_count": 2,
   "id": "dfbdb03e",
   "metadata": {},
   "outputs": [
    {
     "name": "stdout",
     "output_type": "stream",
     "text": [
      "R2 Score (Test): 0.96\n",
      "R2 Score (Validation): 0.96\n",
      "Cross Validation Score: 0.96\n"
     ]
    }
   ],
   "source": [
    "if __name__ == '__main__':\n",
    "    \n",
    "    # Loading the dataset -\n",
    "    data = pd.read_csv(r'C:\\Users\\HP\\Desktop\\cubic_zirconia.csv')\n",
    "    \n",
    "    processed_data = base.preprocess(data, \n",
    "                                     drop_cols=['Unnamed: 0', 'depth', 'table'])\n",
    "    \n",
    "    X, y, X_train, X_test, X_val, y_train, y_test, y_val = base.splitter(processed_data, \n",
    "                                                                         y_var='price', \n",
    "                                                                         split_ratio=[70, 20, 10])\n",
    "    \n",
    "    # Decision Tree\n",
    "    d_tree = DecisionTreeRegressor()\n",
    "    \n",
    "    obj = base.model_training(d_tree, X_train, X_test, X_val, y_train, y_test, y_val)\n",
    "    base.cross_validation(d_tree, X, y)\n",
    "\n",
    "    filename = r'tree_model.pkl'\n",
    "    base.dump_model(filename, obj)\n"
   ]
  },
  {
   "cell_type": "markdown",
   "id": "2268a2b3",
   "metadata": {},
   "source": [
    "# THANK YOU"
   ]
  }
 ],
 "metadata": {
  "kernelspec": {
   "display_name": "Python 3 (ipykernel)",
   "language": "python",
   "name": "python3"
  },
  "language_info": {
   "codemirror_mode": {
    "name": "ipython",
    "version": 3
   },
   "file_extension": ".py",
   "mimetype": "text/x-python",
   "name": "python",
   "nbconvert_exporter": "python",
   "pygments_lexer": "ipython3",
   "version": "3.9.12"
  }
 },
 "nbformat": 4,
 "nbformat_minor": 5
}

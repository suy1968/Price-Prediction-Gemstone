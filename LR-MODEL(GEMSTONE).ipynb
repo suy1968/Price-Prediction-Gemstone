{
 "cells": [
  {
   "cell_type": "code",
   "execution_count": 1,
   "id": "6eade7d0",
   "metadata": {},
   "outputs": [],
   "source": [
    "# Importing required libraries -\n",
    "import pandas as pd\n",
    "import warnings\n",
    "from sklearn.linear_model import LinearRegression\n",
    "import base_script as base\n",
    "\n",
    "warnings.simplefilter('ignore')"
   ]
  },
  {
   "cell_type": "code",
   "execution_count": 2,
   "id": "dde589c3",
   "metadata": {},
   "outputs": [
    {
     "name": "stdout",
     "output_type": "stream",
     "text": [
      "R2 Score (Test): 0.86\n",
      "R2 Score (Validation): 0.87\n",
      "Cross Validation Score: 0.87\n",
      "\n",
      "\n",
      "Coefficient:  [10476.4273704   -177.67999459  -161.80465945   -74.50919932\n",
      " -2676.57596199  2221.19625971 -1372.21355663]\n",
      "Intercept:  4089.970673906858\n"
     ]
    }
   ],
   "source": [
    "   \n",
    "if __name__ == '__main__':\n",
    "    \n",
    "    # Loading the dataset -\n",
    "    data = pd.read_csv(r'C:\\Users\\HP\\Desktop\\cubic_zirconia.csv')\n",
    "    \n",
    "    processed_data = base.preprocess(data, \n",
    "                                     drop_cols=['Unnamed: 0', 'depth', 'table'])\n",
    "    \n",
    "    X, y, X_train, X_test, X_val, y_train, y_test, y_val = base.splitter(processed_data, \n",
    "                                                                         y_var='price', \n",
    "                                                                         split_ratio=[70, 20, 10])\n",
    "    \n",
    "    # Linear Regression\n",
    "    lin_reg = LinearRegression()\n",
    "    \n",
    "    obj = base.model_training(lin_reg, X_train, X_test, X_val, y_train, y_test, y_val)\n",
    "    base.cross_validation(lin_reg, X, y)\n",
    "    \n",
    "    print(\"\\n\")\n",
    "    \n",
    "    print(\"Coefficient: \", lin_reg.coef_)\n",
    "    print(\"Intercept: \", lin_reg.intercept_)\n",
    "\n",
    "    filename = r'lr_model.pkl'\n",
    "    base.dump_model(filename, obj)\n",
    "    "
   ]
  },
  {
   "cell_type": "markdown",
   "id": "a70852ef",
   "metadata": {},
   "source": [
    "# THANK YOU"
   ]
  }
 ],
 "metadata": {
  "kernelspec": {
   "display_name": "Python 3 (ipykernel)",
   "language": "python",
   "name": "python3"
  },
  "language_info": {
   "codemirror_mode": {
    "name": "ipython",
    "version": 3
   },
   "file_extension": ".py",
   "mimetype": "text/x-python",
   "name": "python",
   "nbconvert_exporter": "python",
   "pygments_lexer": "ipython3",
   "version": "3.9.12"
  }
 },
 "nbformat": 4,
 "nbformat_minor": 5
}
